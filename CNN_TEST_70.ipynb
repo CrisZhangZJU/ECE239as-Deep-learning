{
  "nbformat": 4,
  "nbformat_minor": 0,
  "metadata": {
    "colab": {
      "name": "Untitled1.ipynb",
      "version": "0.3.2",
      "provenance": [],
      "collapsed_sections": [],
      "include_colab_link": true
    },
    "kernelspec": {
      "name": "python3",
      "display_name": "Python 3"
    },
    "accelerator": "GPU"
  },
  "cells": [
    {
      "cell_type": "markdown",
      "metadata": {
        "id": "view-in-github",
        "colab_type": "text"
      },
      "source": [
        "<a href=\"https://colab.research.google.com/github/SiqiHuang18/ECE239as-Deep-learning/blob/ChrisZhang/CNN_TEST_70.ipynb\" target=\"_parent\"><img src=\"https://colab.research.google.com/assets/colab-badge.svg\" alt=\"Open In Colab\"/></a>"
      ]
    },
    {
      "metadata": {
        "id": "sY3WnsXhWsX5",
        "colab_type": "code",
        "colab": {}
      },
      "cell_type": "code",
      "source": [
        "from google.colab import files\n",
        "import torch\n",
        "import torchvision \n",
        "import torchvision.transforms as transoforms\n",
        "import torch.optim as optim\n",
        "from load_data import *\n",
        "import torch.nn as nn\n",
        "import torch.backends.cudnn as cudnn\n",
        "import os \n",
        "\n",
        "\n",
        "%load_ext autoreload\n",
        "%autoreload 2\n",
        "\n",
        "\n",
        "device = 'cuda' if torch.cuda.is_available() else 'cpu'\n",
        "best_acc = 0  # best test accuracy\n",
        "start_epoch = 0  # start from epoch 0 or last checkpoint epoch"
      ],
      "execution_count": 0,
      "outputs": []
    },
    {
      "metadata": {
        "id": "tFtUuQe3yIAV",
        "colab_type": "code",
        "colab": {
          "base_uri": "https://localhost:8080/",
          "height": 153
        },
        "outputId": "30cffc25-c4e9-483e-b0de-009f58a9a976"
      },
      "cell_type": "code",
      "source": [
        "# Data\n",
        "print(device)\n",
        "print('==> Preparing data..')\n",
        "subject=\"ALL\"\n",
        "load=loader()\n",
        "\n",
        "train_loader, test_loader,val_loader, _ = load(subject,batch_size= 20,num_validation = 30)\n",
        "\n",
        "#cc = val_loader\n",
        "#dd = test_loader\n",
        "#val_loader = dd\n",
        "#test_loader = cc\n",
        "\n",
        "sub_num= 4 if subject==\"ALL\" else subject"
      ],
      "execution_count": 2,
      "outputs": [
        {
          "output_type": "stream",
          "text": [
            "cuda\n",
            "==> Preparing data..\n",
            "Train data shape:  (1845, 22, 1000)\n",
            "Train labels shape:  (1845,)\n",
            "test data shape:  (261, 22, 1000)\n",
            "test labels shape:  (261,)\n",
            "Validation data shape:  (270, 22, 1000)\n",
            "Validation labels shape:  (270,)\n"
          ],
          "name": "stdout"
        }
      ]
    },
    {
      "metadata": {
        "id": "0F3M7YSYyLZr",
        "colab_type": "code",
        "colab": {}
      },
      "cell_type": "code",
      "source": [
        "# Training \n",
        "def train(epoch):\n",
        "    trainloader=train_loader\n",
        "    net.train()\n",
        "    train_loss = 0\n",
        "    correct = 0\n",
        "    total = 0\n",
        "    for batch_idx, (inputs, labels) in enumerate(trainloader):\n",
        "        # Get the inputs\n",
        "        inputs, labels = inputs.to(device), labels.to(device).long()\n",
        "        inputs = inputs.to(device)        # Zero the parameter gradients\n",
        "        optimizer.zero_grad()\n",
        "    \n",
        "        # Forward+Backward+Optimize\n",
        "        outputs = net(inputs)\n",
        "#         labels = labels.unsqueeze(1)\n",
        "#         print('labels',labels.shape)\n",
        "#         one_hot = torch.zeros(labels.shape[0], 4).scatter_(1, labels, 1)       \n",
        "#         labels=one_hot.to(device)\n",
        "#         print('outputs',outputs.shape) # Shape should be [20*4]\n",
        "#         print('labels',labels.shape)\n",
        "        loss = criterion (outputs, labels)\n",
        "        loss.backward()\n",
        "        optimizer.step()\n",
        "\n",
        "        # Print statistics \n",
        "        train_loss += loss.item()\n",
        "        _,predicted = outputs.max(1)\n",
        "        total += labels.size(0)\n",
        "        correct += predicted.eq(labels).sum().item()\n",
        "        # progress_bar(batch_idx, len(trainloader), 'Loss: %.3f | Acc: %.3f%% (%d/%d)'\n",
        "        #     % (train_loss/(batch_idx+1), 100.*correct/total, correct, total))\n",
        "    return ([train_loss/(batch_idx+1),100.*correct/total])"
      ],
      "execution_count": 0,
      "outputs": []
    },
    {
      "metadata": {
        "id": "EfU53b7byO5R",
        "colab_type": "code",
        "colab": {}
      },
      "cell_type": "code",
      "source": [
        "# Testing\n",
        "def test(epoch, testloader=test_loader):\n",
        "    global best_acc\n",
        "    net.eval()\n",
        "    test_loss = 0\n",
        "    correct = 0\n",
        "    total = 0\n",
        "\n",
        "    total_by_cat = np.zeros((sub_num))\n",
        "    correct_by_cat = np.zeros((sub_num))\n",
        "\n",
        "\n",
        "    with torch.no_grad():\n",
        "        for batch_idx, (inputs, labels) in enumerate(testloader):\n",
        "#             inputs, labels = inputs.to(device), labels.to(device)\n",
        "            inputs,labels = inputs.to(device), labels.to(device).long()\n",
        "\n",
        "            outputs = net(inputs)\n",
        "#             labels=labels.unsqueeze(1)\n",
        "            \n",
        "#             one_hot = torch.zeros(labels.shape[0], 4).scatter_(1, labels, 1)       \n",
        "#             labels=one_hot.to(device)\n",
        "            \n",
        "            loss = criterion(outputs, labels)\n",
        "\n",
        "            test_loss += loss.item()\n",
        "            _, predicted = outputs.max(1)\n",
        "            total += labels.size(0)\n",
        "            correct += predicted.eq(labels).sum().item()\n",
        "            for i, (pred, tar) in enumerate(zip(predicted, labels)):\n",
        "                total_by_cat[tar.item()]+=1\n",
        "                if(pred.item() == tar.item()):\n",
        "                    correct_by_cat[tar.item()] += 1\n",
        "            #progress_bar(batch_idx, len(testloader), 'Loss: %.3f | Acc: %.3f%% (%d/%d)'\n",
        "            #    % (test_loss/(batch_idx+1), 100.*correct/total, correct, total))\n",
        "\n",
        "\n",
        "    print('\\nEpoch: %d | Test Loss: %.3f | Acc: %.3f%% (%d/%d)'\n",
        "        % (epoch, test_loss/(batch_idx+1), 100.*correct/total, correct, total))\n",
        "    np.set_printoptions(precision=3)\n",
        "    print(\"Acc by class: \", correct_by_cat * 1.0 / total_by_cat)\n",
        "\n",
        "    # Save checkpoint.\n",
        "    acc = 100.*correct/total\n",
        "    if acc > best_acc:\n",
        "        print('Saving..')\n",
        "        state = {\n",
        "            'net': net.state_dict(),\n",
        "            'acc': acc,\n",
        "            'epoch': epoch,\n",
        "        }\n",
        "        if not os.path.isdir('checkpoint'):\n",
        "            os.mkdir('checkpoint')\n",
        "        torch.save(state, './checkpoint/ckpt.t7')\n",
        "        best_acc = acc\n",
        "\n",
        "    return [test_loss/(batch_idx+1),100.*correct/total]"
      ],
      "execution_count": 0,
      "outputs": []
    },
    {
      "metadata": {
        "id": "QKTnEgi-yRcW",
        "colab_type": "code",
        "colab": {}
      },
      "cell_type": "code",
      "source": [
        "# Main \n",
        "def main_train(epoches = 8):\n",
        "    stats = {}\n",
        "    stats['train'] = []\n",
        "    stats['val']  = []\n",
        "    stats['test'] = []\n",
        "    epoches = range(epoches)\n",
        "    scheduler=torch.optim.lr_scheduler.StepLR(optimizer, step_size=5, gamma=0.97, last_epoch=-1)\n",
        "\n",
        "    for epoch in epoches:\n",
        "        scheduler.step()\n",
        "        stats['train'].append(train(epoch))\n",
        "        stats['val'].append(test(epoch,testloader=val_loader))\n",
        "\n",
        "    stats['test']=test(epoch,test_loader)\n",
        "    print('Test set result:',stats['test'])\n",
        "\n",
        "    stats['val']  = np.array(stats['val'])\n",
        "    stats['train'] = np.array(stats['train'])\n",
        "\n",
        "    fig, ax = plt.subplots(1, 2,figsize = (8,4))\n",
        "    ax[0].plot(epoches,stats['val'][:,0],epoches,stats['train'][:,0])\n",
        "\n",
        "    ax[0].legend(['validation','train'])\n",
        "    ax[0].set_title('loss')\n",
        "\n",
        "    ax[1].plot(epoches,stats['val'][:,1],epoches,stats['train'][:,1])\n",
        "\n",
        "    ax[1].legend(['validation','train'])\n",
        "    ax[1].set_title('accuracy')"
      ],
      "execution_count": 0,
      "outputs": []
    },
    {
      "metadata": {
        "id": "PZe7tdFOyUdt",
        "colab_type": "code",
        "colab": {
          "base_uri": "https://localhost:8080/",
          "height": 34
        },
        "outputId": "e9b0d247-afc8-471b-b4cc-66d5318caef3"
      },
      "cell_type": "code",
      "source": [
        "# Model\n",
        "import Shallow_CNN_SQ\n",
        "import Shallow_CNN_YJ\n",
        "# from models import encoder,Transformer,EncoderRNN,RNN_CNN\n",
        "print('==> Building model..')\n",
        "# net = Shallow_CNN.CNN_Shallow()\n",
        "# net=encoder.Model() # best59\n",
        "# net = ShallowCNN.shallow_CNN()\n",
        "# net = Transformer.Transformer0(cut=20, num_layers=6, heads=4, drop_out=0.1, max_relative_positions=0,)  # best 27 \n",
        "# 可能是变厚的方式不靠谱，我希望是序列1000个，每20个采一个，也可能是层数太多\n",
        "# net = Transformer.Transformer1(num_layers=1, heads=8, drop_out=0.1, max_relative_positions=0,) # best 39\n",
        "# net = Transformer.Transformer1(num_layers=1, heads=1, drop_out=0.1, max_relative_positions=0,) # best 39\n",
        "# net = Transformer.Transformer1(num_layers=1, heads=1, drop_out=0.5, max_relative_positions=0,) # best 39\n",
        "# net = EncoderRNN.EncoderRNN() # same as the above encoder.Model() \n",
        "# net = EncoderRNN.EncoderRNN1() # best 30\n",
        "# net = Transformer.Transformer0(cut=10, num_layers=1, heads=4, drop_out=0.1, max_relative_positions=0,) # best 8 epoch 42\n",
        "# net = Transformer.Transformer0(cut=2, num_layers=1, heads=4, drop_out=0.1, max_relative_positions=0,) #大约10epoch过拟合，最好50\n",
        "# 不知道是折叠策略不对，还是折叠无效，less is more,放弃折叠\n",
        "# net = Transformer.Transformer0(cut=1, num_layers=1, heads=2, drop_out=0.1, max_relative_positions=0,) # 只跑了20轮 第19 51\n",
        "# net = Transformer.Transformer0(cut=1, num_layers=1, heads=1, drop_out=0.1, max_relative_positions=0,) #只跑了20轮 47\n",
        "# net = Transformer.Transformer0(cut=1, num_layers=1, heads=2, drop_out=0.1, max_relative_positions=20,) # 很慢，第一第二轮都是25\n",
        "# 怀疑是实现错了\n",
        "\n",
        "# 以上transformer都还没有调优化器，一般transformer要设置 warmup， 我觉得不设的话lr调小或者decay变大\n",
        "# net =  RNN_CNN.RNN0_CNN() # 前20轮 14 69.7 \n",
        "# net =RNN_CNN.RNN0_CNN(rnn_num_layers=1, rnn_dropout=0.3)  # 前20轮18 67 和上面相似，loss在第五个epoch过拟合\n",
        "# net =RNN_CNN.RNN0_CNN(rnn_num_layers=2, rnn_dropout=0.1) # 感觉这三个acc都波动很大，建议调低lr 13epoch 67\n",
        "# net =  RNN_CNN.RNN0_CNN(rnn_num_layers=1, rnn_dropout=0) # 把lr调低到0.0001试下，好像在64附近挣扎\n",
        "net= Shallow_CNN_YJ.CNN_Shallow()\n",
        "net = net.to(device)\n",
        "if device == 'cuda':\n",
        "    net = torch.nn.DataParallel(net)\n",
        "    cudnn.benchmark = True\n",
        "    \n",
        "# if args.resume:\n",
        "#     # Load checkpoint.\n",
        "#     print('==> Resuming from checkpoint..')\n",
        "#     assert os.path.isdir('checkpoint'), 'Error: no checkpoint directory found!'\n",
        "#     checkpoint = torch.load('./checkpoint/ckpt.t7')\n",
        "#     net.load_state_dict(checkpoint['net'])\n",
        "#     best_acc = checkpoint['acc']\n",
        "#     # start_epoch = checkpoint['epoch']\n",
        "\n",
        "# Define a Loss function and optimizer\n",
        "criterion = nn.CrossEntropyLoss()\n",
        "optimizer = optim.SGD(net.parameters(), lr=0.001, momentum=0.9)"
      ],
      "execution_count": 6,
      "outputs": [
        {
          "output_type": "stream",
          "text": [
            "==> Building model..\n"
          ],
          "name": "stdout"
        }
      ]
    },
    {
      "metadata": {
        "id": "BO50xUXDyWyY",
        "colab_type": "code",
        "colab": {
          "base_uri": "https://localhost:8080/",
          "height": 1504
        },
        "outputId": "497920c6-748b-4e86-bc89-f8feddee88bf"
      },
      "cell_type": "code",
      "source": [
        "import matplotlib.pyplot as plt\n",
        "# optimizer = torch.optim.Adam(net.parameters(), lr=0.001, betas=(0.9,0.999), eps=1e-08, weight_decay=0.002)\n",
        "optimizer = torch.optim.Adam(net.parameters(), lr=0.0008, betas=(0.9,0.999), eps=1e-08, weight_decay=0.011) #SQ\n",
        "\n",
        "main_train(epoches = 20)"
      ],
      "execution_count": 7,
      "outputs": [
        {
          "output_type": "stream",
          "text": [
            "\n",
            "Epoch: 0 | Test Loss: 1.199 | Acc: 50.741% (137/270)\n",
            "Acc by class:  [0.706 0.303 0.464 0.552]\n",
            "Saving..\n",
            "\n",
            "Epoch: 1 | Test Loss: 1.098 | Acc: 59.630% (161/270)\n",
            "Acc by class:  [0.647 0.515 0.507 0.716]\n",
            "Saving..\n",
            "\n",
            "Epoch: 2 | Test Loss: 0.957 | Acc: 61.481% (166/270)\n",
            "Acc by class:  [0.691 0.591 0.522 0.657]\n",
            "Saving..\n",
            "\n",
            "Epoch: 3 | Test Loss: 1.040 | Acc: 58.519% (158/270)\n",
            "Acc by class:  [0.632 0.727 0.551 0.433]\n",
            "\n",
            "Epoch: 4 | Test Loss: 0.871 | Acc: 66.296% (179/270)\n",
            "Acc by class:  [0.75  0.712 0.667 0.522]\n",
            "Saving..\n",
            "\n",
            "Epoch: 5 | Test Loss: 0.917 | Acc: 61.111% (165/270)\n",
            "Acc by class:  [0.574 0.742 0.522 0.612]\n",
            "\n",
            "Epoch: 6 | Test Loss: 0.913 | Acc: 64.815% (175/270)\n",
            "Acc by class:  [0.853 0.621 0.594 0.522]\n",
            "\n",
            "Epoch: 7 | Test Loss: 0.903 | Acc: 66.667% (180/270)\n",
            "Acc by class:  [0.721 0.682 0.638 0.627]\n",
            "Saving..\n",
            "\n",
            "Epoch: 8 | Test Loss: 0.924 | Acc: 65.926% (178/270)\n",
            "Acc by class:  [0.662 0.379 0.783 0.806]\n",
            "\n",
            "Epoch: 9 | Test Loss: 0.811 | Acc: 68.889% (186/270)\n",
            "Acc by class:  [0.794 0.621 0.667 0.672]\n",
            "Saving..\n",
            "\n",
            "Epoch: 10 | Test Loss: 0.838 | Acc: 67.778% (183/270)\n",
            "Acc by class:  [0.779 0.682 0.638 0.612]\n",
            "\n",
            "Epoch: 11 | Test Loss: 0.743 | Acc: 68.519% (185/270)\n",
            "Acc by class:  [0.721 0.636 0.667 0.716]\n",
            "\n",
            "Epoch: 12 | Test Loss: 0.758 | Acc: 69.259% (187/270)\n",
            "Acc by class:  [0.809 0.652 0.667 0.642]\n",
            "Saving..\n",
            "\n",
            "Epoch: 13 | Test Loss: 0.749 | Acc: 71.481% (193/270)\n",
            "Acc by class:  [0.824 0.606 0.696 0.731]\n",
            "Saving..\n",
            "\n",
            "Epoch: 14 | Test Loss: 0.794 | Acc: 67.778% (183/270)\n",
            "Acc by class:  [0.809 0.424 0.652 0.821]\n",
            "\n",
            "Epoch: 15 | Test Loss: 0.794 | Acc: 69.259% (187/270)\n",
            "Acc by class:  [0.603 0.667 0.71  0.791]\n",
            "\n",
            "Epoch: 16 | Test Loss: 0.864 | Acc: 69.630% (188/270)\n",
            "Acc by class:  [0.765 0.621 0.609 0.791]\n",
            "\n",
            "Epoch: 17 | Test Loss: 0.862 | Acc: 68.148% (184/270)\n",
            "Acc by class:  [0.853 0.545 0.609 0.716]\n",
            "\n",
            "Epoch: 18 | Test Loss: 0.814 | Acc: 68.889% (186/270)\n",
            "Acc by class:  [0.809 0.667 0.652 0.627]\n",
            "\n",
            "Epoch: 19 | Test Loss: 0.840 | Acc: 70.741% (191/270)\n",
            "Acc by class:  [0.824 0.758 0.594 0.657]\n",
            "\n",
            "Epoch: 19 | Test Loss: 0.865 | Acc: 65.517% (171/261)\n",
            "Acc by class:  [0.671 0.742 0.542 0.652]\n",
            "Test set result: [0.8646946450074514, 65.51724137931035]\n"
          ],
          "name": "stdout"
        },
        {
          "output_type": "display_data",
          "data": {
            "image/png": "[encoded data removed]",
            "text/plain": [
              "<Figure size 576x288 with 2 Axes>"
            ]
          },
          "metadata": {
            "tags": []
          }
        }
      ]
    },
    {
      "metadata": {
        "id": "UqGR6vCpypnA",
        "colab_type": "code",
        "colab": {}
      },
      "cell_type": "code",
      "source": [
        "def load_checkpoint(model, checkpoint_PATH, optimizer):\n",
        "    if checkpoint != None:\n",
        "        model_CKPT = torch.load(checkpoint_PATH)\n",
        "        model.load_state_dict(model_CKPT['state_dict'])\n",
        "        print('loading checkpoint!')\n",
        "        optimizer.load_state_dict(model_CKPT['optimizer'])\n",
        "    return model, optimizer"
      ],
      "execution_count": 0,
      "outputs": []
    },
    {
      "metadata": {
        "id": "ODwSkKqxyrov",
        "colab_type": "code",
        "colab": {}
      },
      "cell_type": "code",
      "source": [
        "# net,acc,epoch=net.load_state_dict(torch.load('C:/Users/Guangyuan Zhao/Documents/GitHub/ECE239as-Deep-learning/checkpoint/ckpt.t7'))\n",
        "\n",
        "checkpoint_PATH='checkpoint/ckpt.t7'\n",
        "model_CKPT = torch.load(checkpoint_PATH)\n",
        "net.load_state_dict(model_CKPT['net'])"
      ],
      "execution_count": 0,
      "outputs": []
    },
    {
      "metadata": {
        "id": "mZlc8kAvyt5f",
        "colab_type": "code",
        "colab": {
          "base_uri": "https://localhost:8080/",
          "height": 85
        },
        "outputId": "d76abac2-5eb8-4855-e470-8a3f5f9484d0"
      },
      "cell_type": "code",
      "source": [
        "epoch=1\n",
        "test(epoch,test_loader)\n"
      ],
      "execution_count": 10,
      "outputs": [
        {
          "output_type": "stream",
          "text": [
            "\n",
            "Epoch: 1 | Test Loss: 0.821 | Acc: 70.115% (183/261)\n",
            "Acc by class:  [0.729 0.667 0.661 0.742]\n"
          ],
          "name": "stdout"
        },
        {
          "output_type": "execute_result",
          "data": {
            "text/plain": [
              "[0.8207232455412546, 70.11494252873563]"
            ]
          },
          "metadata": {
            "tags": []
          },
          "execution_count": 10
        }
      ]
    },
    {
      "metadata": {
        "id": "KE2CNLx7yv3O",
        "colab_type": "code",
        "colab": {
          "base_uri": "https://localhost:8080/",
          "height": 34
        },
        "outputId": "3d13e365-c253-49cf-aa54-99fce468a232"
      },
      "cell_type": "code",
      "source": [
        "print(model_CKPT['epoch'],model_CKPT['acc'])"
      ],
      "execution_count": 11,
      "outputs": [
        {
          "output_type": "stream",
          "text": [
            "13 71.48148148148148\n"
          ],
          "name": "stdout"
        }
      ]
    },
    {
      "metadata": {
        "id": "wqtc0CtMGQsk",
        "colab_type": "code",
        "colab": {}
      },
      "cell_type": "code",
      "source": [
        ""
      ],
      "execution_count": 0,
      "outputs": []
    },
    {
      "metadata": {
        "id": "mR6dEsJt00ck",
        "colab_type": "code",
        "colab": {}
      },
      "cell_type": "code",
      "source": [
        ""
      ],
      "execution_count": 0,
      "outputs": []
    }
  ]
}