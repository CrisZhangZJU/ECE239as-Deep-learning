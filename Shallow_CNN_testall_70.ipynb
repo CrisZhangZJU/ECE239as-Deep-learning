{
  "nbformat": 4,
  "nbformat_minor": 0,
  "metadata": {
    "colab": {
      "name": "Untitled1.ipynb",
      "version": "0.3.2",
      "provenance": [],
      "collapsed_sections": [],
      "include_colab_link": true
    },
    "kernelspec": {
      "name": "python3",
      "display_name": "Python 3"
    },
    "accelerator": "GPU"
  },
  "cells": [
    {
      "cell_type": "markdown",
      "metadata": {
        "id": "view-in-github",
        "colab_type": "text"
      },
      "source": [
        "<a href=\"https://colab.research.google.com/github/SiqiHuang18/ECE239as-Deep-learning/blob/ChrisZhang/Shallow_CNN_testall_70.ipynb\" target=\"_parent\"><img src=\"https://colab.research.google.com/assets/colab-badge.svg\" alt=\"Open In Colab\"/></a>"
      ]
    },
    {
      "metadata": {
        "id": "sY3WnsXhWsX5",
        "colab_type": "code",
        "outputId": "5206f911-50be-4ea0-ab0b-e11c76490b09",
        "colab": {
          "base_uri": "https://localhost:8080/",
          "height": 51
        }
      },
      "cell_type": "code",
      "source": [
        "from google.colab import files\n",
        "import torch\n",
        "import torchvision \n",
        "import torchvision.transforms as transoforms\n",
        "import torch.optim as optim\n",
        "from load_data import *\n",
        "import torch.nn as nn\n",
        "import torch.backends.cudnn as cudnn\n",
        "import os \n",
        "\n",
        "\n",
        "%load_ext autoreload\n",
        "%autoreload 2\n",
        "\n",
        "\n",
        "device = 'cuda' if torch.cuda.is_available() else 'cpu'\n",
        "best_acc = 0  # best test accuracy\n",
        "start_epoch = 0  # start from epoch 0 or last checkpoint epoch"
      ],
      "execution_count": 338,
      "outputs": [
        {
          "output_type": "stream",
          "text": [
            "The autoreload extension is already loaded. To reload it, use:\n",
            "  %reload_ext autoreload\n"
          ],
          "name": "stdout"
        }
      ]
    },
    {
      "metadata": {
        "id": "tFtUuQe3yIAV",
        "colab_type": "code",
        "outputId": "7838d86f-505d-4499-b606-c7d18c3161d9",
        "colab": {
          "base_uri": "https://localhost:8080/",
          "height": 153
        }
      },
      "cell_type": "code",
      "source": [
        "# Data\n",
        "print(device)\n",
        "print('==> Preparing data..')\n",
        "subject=\"ALL\"\n",
        "load=loader()\n",
        "\n",
        "train_loader, test_loader,val_loader, _ = load(subject,batch_size= 20,num_validation = 30)\n",
        "\n",
        "#cc = val_loader\n",
        "#dd = test_loader\n",
        "#val_loader = dd\n",
        "#test_loader = cc\n",
        "\n",
        "sub_num= 4 if subject==\"ALL\" else subject"
      ],
      "execution_count": 339,
      "outputs": [
        {
          "output_type": "stream",
          "text": [
            "cuda\n",
            "==> Preparing data..\n",
            "Train data shape:  (1845, 22, 1000)\n",
            "Train labels shape:  (1845,)\n",
            "test data shape:  (443, 22, 1000)\n",
            "test labels shape:  (443,)\n",
            "Validation data shape:  (270, 22, 1000)\n",
            "Validation labels shape:  (270,)\n"
          ],
          "name": "stdout"
        }
      ]
    },
    {
      "metadata": {
        "id": "0F3M7YSYyLZr",
        "colab_type": "code",
        "colab": {}
      },
      "cell_type": "code",
      "source": [
        "# Training \n",
        "def train(epoch):\n",
        "    trainloader=train_loader\n",
        "    net.train()\n",
        "    train_loss = 0\n",
        "    correct = 0\n",
        "    total = 0\n",
        "    for batch_idx, (inputs, labels) in enumerate(trainloader):\n",
        "        # Get the inputs\n",
        "        inputs, labels = inputs.to(device), labels.to(device).long()\n",
        "        inputs = inputs.to(device)        # Zero the parameter gradients\n",
        "        optimizer.zero_grad()\n",
        "    \n",
        "        # Forward+Backward+Optimize\n",
        "        outputs = net(inputs)\n",
        "#         labels = labels.unsqueeze(1)\n",
        "#         print('labels',labels.shape)\n",
        "#         one_hot = torch.zeros(labels.shape[0], 4).scatter_(1, labels, 1)       \n",
        "#         labels=one_hot.to(device)\n",
        "#         print('outputs',outputs.shape) # Shape should be [20*4]\n",
        "#         print('labels',labels.shape)\n",
        "        loss = criterion (outputs, labels)\n",
        "        loss.backward()\n",
        "        optimizer.step()\n",
        "\n",
        "        # Print statistics \n",
        "        train_loss += loss.item()\n",
        "        _,predicted = outputs.max(1)\n",
        "        total += labels.size(0)\n",
        "        correct += predicted.eq(labels).sum().item()\n",
        "        # progress_bar(batch_idx, len(trainloader), 'Loss: %.3f | Acc: %.3f%% (%d/%d)'\n",
        "        #     % (train_loss/(batch_idx+1), 100.*correct/total, correct, total))\n",
        "    return ([train_loss/(batch_idx+1),100.*correct/total])"
      ],
      "execution_count": 0,
      "outputs": []
    },
    {
      "metadata": {
        "id": "EfU53b7byO5R",
        "colab_type": "code",
        "colab": {}
      },
      "cell_type": "code",
      "source": [
        "# Testing\n",
        "def test(epoch,check_num,testloader=test_loader):\n",
        "    global best_acc\n",
        "    net.eval()\n",
        "    test_loss = 0\n",
        "    correct = 0\n",
        "    total = 0\n",
        "\n",
        "    total_by_cat = np.zeros((sub_num))\n",
        "    correct_by_cat = np.zeros((sub_num))\n",
        "\n",
        "\n",
        "    with torch.no_grad():\n",
        "        for batch_idx, (inputs, labels) in enumerate(testloader):\n",
        "#             inputs, labels = inputs.to(device), labels.to(device)\n",
        "            inputs,labels = inputs.to(device), labels.to(device).long()\n",
        "\n",
        "            outputs = net(inputs)\n",
        "#             labels=labels.unsqueeze(1)\n",
        "            \n",
        "#             one_hot = torch.zeros(labels.shape[0], 4).scatter_(1, labels, 1)       \n",
        "#             labels=one_hot.to(device)\n",
        "            \n",
        "            loss = criterion(outputs, labels)\n",
        "\n",
        "            test_loss += loss.item()\n",
        "            _, predicted = outputs.max(1)\n",
        "            total += labels.size(0)\n",
        "            correct += predicted.eq(labels).sum().item()\n",
        "            for i, (pred, tar) in enumerate(zip(predicted, labels)):\n",
        "                total_by_cat[tar.item()]+=1\n",
        "                if(pred.item() == tar.item()):\n",
        "                    correct_by_cat[tar.item()] += 1\n",
        "            #progress_bar(batch_idx, len(testloader), 'Loss: %.3f | Acc: %.3f%% (%d/%d)'\n",
        "            #    % (test_loss/(batch_idx+1), 100.*correct/total, correct, total))\n",
        "\n",
        "\n",
        "    print('\\nEpoch: %d | Test Loss: %.3f | Acc: %.3f%% (%d/%d)'\n",
        "        % (epoch, test_loss/(batch_idx+1), 100.*correct/total, correct, total))\n",
        "    np.set_printoptions(precision=3)\n",
        "    print(\"Acc by class: \", correct_by_cat * 1.0 / total_by_cat)\n",
        "\n",
        "    # Save checkpoint.\n",
        "    acc = 100.*correct/total\n",
        "    #if acc > best_acc:\n",
        "    #    print('Saving..')\n",
        "    #    state = {\n",
        "    #        'net': net.state_dict(),\n",
        "    #        'acc': acc,\n",
        "    #        'epoch': epoch,\n",
        "    #    }\n",
        "    #    if not os.path.isdir('checkpoint'):\n",
        "    #        os.mkdir('checkpoint')\n",
        "    #    torch.save(state, './checkpoint/ckpt.t7')\n",
        "    #    best_acc = acc\n",
        "    is_check = None\n",
        "    if acc >= 100.*0.7:\n",
        "        is_check = True\n",
        "        print('Saving..')\n",
        "        state = {\n",
        "            'net': net.state_dict(),\n",
        "            'acc': acc,\n",
        "            'epoch': epoch,\n",
        "        }\n",
        "        if not os.path.isdir('checkpoint'):\n",
        "            os.mkdir('checkpoint')\n",
        "        torch.save(state, './checkpoint/ckpt.t' + str(check_num))\n",
        "        check_num = check_num + 1\n",
        "        #best_acc = acc\n",
        "\n",
        "    return [test_loss/(batch_idx+1),100.*correct/total], is_check"
      ],
      "execution_count": 0,
      "outputs": []
    },
    {
      "metadata": {
        "id": "QKTnEgi-yRcW",
        "colab_type": "code",
        "colab": {}
      },
      "cell_type": "code",
      "source": [
        "# Main \n",
        "def main_train(epoches = 8):\n",
        "    stats = {}\n",
        "    stats['train'] = []\n",
        "    stats['val']  = []\n",
        "    stats['test'] = []\n",
        "    epoches = range(epoches)\n",
        "    scheduler=torch.optim.lr_scheduler.StepLR(optimizer, step_size=5, gamma=0.97, last_epoch=-1)\n",
        "    check_num = 0\n",
        "\n",
        "    for epoch in epoches:\n",
        "        scheduler.step()\n",
        "        stats['train'].append(train(epoch))\n",
        "        tol, is_check = test(epoch,check_num, testloader=val_loader)\n",
        "        stats['val'].append(tol)\n",
        "        if is_check:\n",
        "          check_num += 1\n",
        "        #stats['val'].append(test(epoch,testloader=val_loader))\n",
        "\n",
        "    stats['test']=test(epoch,test_loader)\n",
        "    print('Test set result:',stats['test'])\n",
        "\n",
        "    stats['val']  = np.array(stats['val'])\n",
        "    stats['train'] = np.array(stats['train'])\n",
        "\n",
        "    fig, ax = plt.subplots(1, 2,figsize = (8,4))\n",
        "    ax[0].plot(epoches,stats['val'][:,0],epoches,stats['train'][:,0])\n",
        "\n",
        "    ax[0].legend(['validation','train'])\n",
        "    ax[0].set_title('loss')\n",
        "\n",
        "    ax[1].plot(epoches,stats['val'][:,1],epoches,stats['train'][:,1])\n",
        "\n",
        "    ax[1].legend(['validation','train'])\n",
        "    ax[1].set_title('accuracy')"
      ],
      "execution_count": 0,
      "outputs": []
    },
    {
      "metadata": {
        "id": "PZe7tdFOyUdt",
        "colab_type": "code",
        "outputId": "f56fe971-357e-4f03-8cb9-a8235d0bdeb5",
        "colab": {
          "base_uri": "https://localhost:8080/",
          "height": 34
        }
      },
      "cell_type": "code",
      "source": [
        "# Model\n",
        "import Shallow_CNN_SQ\n",
        "import Shallow_CNN_YJ\n",
        "import Deep_CNN\n",
        "import Shallow_CNN\n",
        "import Deep_CNN_YJ\n",
        "import Shallow_CNN_YJ_70_1\n",
        "import EncoderRNN\n",
        "import encoder\n",
        "# from models import encoder,Transformer,EncoderRNN,RNN_CNN\n",
        "print('==> Building model..')\n",
        "\n",
        "#net= Deep_CNN_YJ.CNN_Deep()\n",
        "net= Shallow_CNN_YJ_70_1.CNN_Shallow()\n",
        "#net = encoder.Model()\n",
        "net = net.to(device)\n",
        "if device == 'cuda':\n",
        "    net = torch.nn.DataParallel(net)\n",
        "    cudnn.benchmark = True\n",
        "    \n",
        "# Define a Loss function and optimizer\n",
        "criterion = nn.CrossEntropyLoss()\n",
        "optimizer = optim.SGD(net.parameters(), lr=0.001, momentum=0.9)"
      ],
      "execution_count": 343,
      "outputs": [
        {
          "output_type": "stream",
          "text": [
            "==> Building model..\n"
          ],
          "name": "stdout"
        }
      ]
    },
    {
      "metadata": {
        "id": "BO50xUXDyWyY",
        "colab_type": "code",
        "outputId": "362b9b06-1d35-4c65-f036-ba11b28a44b4",
        "colab": {
          "base_uri": "https://localhost:8080/",
          "height": 3238
        }
      },
      "cell_type": "code",
      "source": [
        "import matplotlib.pyplot as plt\n",
        "# optimizer = torch.optim.Adam(net.parameters(), lr=0.001, betas=(0.9,0.999), eps=1e-08, weight_decay=0.002)\n",
        "optimizer = torch.optim.Adam(net.parameters(), lr=0.001, betas=(0.9,0.999), eps=1e-08, weight_decay=0.011) #SQ\n",
        "\n",
        "main_train(epoches = 50)"
      ],
      "execution_count": 344,
      "outputs": [
        {
          "output_type": "stream",
          "text": [
            "\n",
            "Epoch: 0 | Test Loss: 1.129 | Acc: 55.185% (149/270)\n",
            "Acc by class:  [0.574 0.364 0.594 0.672]\n",
            "\n",
            "Epoch: 1 | Test Loss: 1.082 | Acc: 56.296% (152/270)\n",
            "Acc by class:  [0.603 0.545 0.594 0.507]\n",
            "\n",
            "Epoch: 2 | Test Loss: 0.980 | Acc: 60.741% (164/270)\n",
            "Acc by class:  [0.75  0.515 0.536 0.627]\n",
            "\n",
            "Epoch: 3 | Test Loss: 0.923 | Acc: 63.333% (171/270)\n",
            "Acc by class:  [0.824 0.621 0.522 0.567]\n",
            "\n",
            "Epoch: 4 | Test Loss: 0.964 | Acc: 60.741% (164/270)\n",
            "Acc by class:  [0.824 0.758 0.507 0.343]\n",
            "\n",
            "Epoch: 5 | Test Loss: 0.884 | Acc: 65.185% (176/270)\n",
            "Acc by class:  [0.75  0.485 0.623 0.746]\n",
            "\n",
            "Epoch: 6 | Test Loss: 0.887 | Acc: 66.296% (179/270)\n",
            "Acc by class:  [0.721 0.667 0.638 0.627]\n",
            "\n",
            "Epoch: 7 | Test Loss: 0.868 | Acc: 68.148% (184/270)\n",
            "Acc by class:  [0.676 0.727 0.623 0.701]\n",
            "\n",
            "Epoch: 8 | Test Loss: 0.839 | Acc: 66.296% (179/270)\n",
            "Acc by class:  [0.868 0.606 0.609 0.567]\n",
            "\n",
            "Epoch: 9 | Test Loss: 0.866 | Acc: 66.667% (180/270)\n",
            "Acc by class:  [0.809 0.53  0.551 0.776]\n",
            "\n",
            "Epoch: 10 | Test Loss: 0.847 | Acc: 70.741% (191/270)\n",
            "Acc by class:  [0.794 0.803 0.58  0.657]\n",
            "Saving..\n",
            "\n",
            "Epoch: 11 | Test Loss: 0.816 | Acc: 70.000% (189/270)\n",
            "Acc by class:  [0.926 0.606 0.58  0.687]\n",
            "Saving..\n",
            "\n",
            "Epoch: 12 | Test Loss: 0.832 | Acc: 68.148% (184/270)\n",
            "Acc by class:  [0.809 0.652 0.58  0.687]\n",
            "\n",
            "Epoch: 13 | Test Loss: 0.874 | Acc: 67.037% (181/270)\n",
            "Acc by class:  [0.662 0.773 0.551 0.701]\n",
            "\n",
            "Epoch: 14 | Test Loss: 0.902 | Acc: 68.519% (185/270)\n",
            "Acc by class:  [0.868 0.697 0.58  0.597]\n",
            "\n",
            "Epoch: 15 | Test Loss: 0.838 | Acc: 69.630% (188/270)\n",
            "Acc by class:  [0.838 0.697 0.609 0.642]\n",
            "\n",
            "Epoch: 16 | Test Loss: 0.911 | Acc: 64.815% (175/270)\n",
            "Acc by class:  [0.765 0.576 0.58  0.672]\n",
            "\n",
            "Epoch: 17 | Test Loss: 0.858 | Acc: 70.741% (191/270)\n",
            "Acc by class:  [0.779 0.53  0.754 0.761]\n",
            "Saving..\n",
            "\n",
            "Epoch: 18 | Test Loss: 0.855 | Acc: 69.630% (188/270)\n",
            "Acc by class:  [0.779 0.667 0.667 0.672]\n",
            "\n",
            "Epoch: 19 | Test Loss: 0.831 | Acc: 71.111% (192/270)\n",
            "Acc by class:  [0.853 0.697 0.623 0.672]\n",
            "Saving..\n",
            "\n",
            "Epoch: 20 | Test Loss: 0.784 | Acc: 68.889% (186/270)\n",
            "Acc by class:  [0.647 0.682 0.638 0.791]\n",
            "\n",
            "Epoch: 21 | Test Loss: 0.888 | Acc: 67.778% (183/270)\n",
            "Acc by class:  [0.897 0.424 0.638 0.746]\n",
            "\n",
            "Epoch: 22 | Test Loss: 0.846 | Acc: 70.370% (190/270)\n",
            "Acc by class:  [0.838 0.636 0.696 0.642]\n",
            "Saving..\n",
            "\n",
            "Epoch: 23 | Test Loss: 0.858 | Acc: 69.630% (188/270)\n",
            "Acc by class:  [0.824 0.576 0.609 0.776]\n",
            "\n",
            "Epoch: 24 | Test Loss: 0.838 | Acc: 68.519% (185/270)\n",
            "Acc by class:  [0.75  0.712 0.667 0.612]\n",
            "\n",
            "Epoch: 25 | Test Loss: 0.796 | Acc: 69.630% (188/270)\n",
            "Acc by class:  [0.735 0.742 0.623 0.687]\n",
            "\n",
            "Epoch: 26 | Test Loss: 0.843 | Acc: 70.000% (189/270)\n",
            "Acc by class:  [0.721 0.712 0.681 0.687]\n",
            "Saving..\n",
            "\n",
            "Epoch: 27 | Test Loss: 0.773 | Acc: 71.852% (194/270)\n",
            "Acc by class:  [0.897 0.667 0.594 0.716]\n",
            "Saving..\n",
            "\n",
            "Epoch: 28 | Test Loss: 0.836 | Acc: 69.259% (187/270)\n",
            "Acc by class:  [0.691 0.818 0.551 0.716]\n",
            "\n",
            "Epoch: 29 | Test Loss: 0.856 | Acc: 68.519% (185/270)\n",
            "Acc by class:  [0.853 0.727 0.565 0.597]\n",
            "\n",
            "Epoch: 30 | Test Loss: 0.825 | Acc: 72.593% (196/270)\n",
            "Acc by class:  [0.853 0.682 0.609 0.761]\n",
            "Saving..\n",
            "\n",
            "Epoch: 31 | Test Loss: 0.850 | Acc: 71.111% (192/270)\n",
            "Acc by class:  [0.868 0.682 0.638 0.657]\n",
            "Saving..\n",
            "\n",
            "Epoch: 32 | Test Loss: 0.864 | Acc: 70.370% (190/270)\n",
            "Acc by class:  [0.794 0.621 0.725 0.672]\n",
            "Saving..\n",
            "\n",
            "Epoch: 33 | Test Loss: 0.875 | Acc: 74.444% (201/270)\n",
            "Acc by class:  [0.853 0.697 0.71  0.716]\n",
            "Saving..\n",
            "\n",
            "Epoch: 34 | Test Loss: 0.802 | Acc: 71.481% (193/270)\n",
            "Acc by class:  [0.809 0.606 0.652 0.791]\n",
            "Saving..\n",
            "\n",
            "Epoch: 35 | Test Loss: 0.916 | Acc: 67.778% (183/270)\n",
            "Acc by class:  [0.765 0.758 0.551 0.642]\n",
            "\n",
            "Epoch: 36 | Test Loss: 0.849 | Acc: 70.741% (191/270)\n",
            "Acc by class:  [0.824 0.636 0.638 0.731]\n",
            "Saving..\n",
            "\n",
            "Epoch: 37 | Test Loss: 0.854 | Acc: 71.111% (192/270)\n",
            "Acc by class:  [0.779 0.667 0.609 0.791]\n",
            "Saving..\n",
            "\n",
            "Epoch: 38 | Test Loss: 0.798 | Acc: 72.593% (196/270)\n",
            "Acc by class:  [0.882 0.712 0.652 0.657]\n",
            "Saving..\n",
            "\n",
            "Epoch: 39 | Test Loss: 0.969 | Acc: 68.148% (184/270)\n",
            "Acc by class:  [0.75  0.606 0.754 0.612]\n",
            "\n",
            "Epoch: 40 | Test Loss: 0.928 | Acc: 63.333% (171/270)\n",
            "Acc by class:  [0.588 0.727 0.58  0.642]\n",
            "\n",
            "Epoch: 41 | Test Loss: 0.870 | Acc: 68.519% (185/270)\n",
            "Acc by class:  [0.809 0.636 0.58  0.716]\n",
            "\n",
            "Epoch: 42 | Test Loss: 0.867 | Acc: 72.593% (196/270)\n",
            "Acc by class:  [0.794 0.636 0.754 0.716]\n",
            "Saving..\n",
            "\n",
            "Epoch: 43 | Test Loss: 0.844 | Acc: 71.852% (194/270)\n",
            "Acc by class:  [0.809 0.652 0.696 0.716]\n",
            "Saving..\n",
            "\n",
            "Epoch: 44 | Test Loss: 0.970 | Acc: 70.000% (189/270)\n",
            "Acc by class:  [0.779 0.727 0.594 0.701]\n",
            "Saving..\n",
            "\n",
            "Epoch: 45 | Test Loss: 1.000 | Acc: 68.148% (184/270)\n",
            "Acc by class:  [0.676 0.621 0.623 0.806]\n",
            "\n",
            "Epoch: 46 | Test Loss: 0.891 | Acc: 72.222% (195/270)\n",
            "Acc by class:  [0.838 0.667 0.58  0.806]\n",
            "Saving..\n",
            "\n",
            "Epoch: 47 | Test Loss: 0.852 | Acc: 69.630% (188/270)\n",
            "Acc by class:  [0.721 0.697 0.623 0.746]\n",
            "\n",
            "Epoch: 48 | Test Loss: 0.910 | Acc: 72.222% (195/270)\n",
            "Acc by class:  [0.765 0.712 0.652 0.761]\n",
            "Saving..\n",
            "\n",
            "Epoch: 49 | Test Loss: 0.956 | Acc: 66.296% (179/270)\n",
            "Acc by class:  [0.868 0.424 0.623 0.731]\n",
            "\n",
            "Epoch: 49 | Test Loss: 0.974 | Acc: 67.946% (301/443)\n",
            "Acc by class:  [0.847 0.591 0.615 0.67 ]\n",
            "Test set result: ([0.9737208684285482, 67.94582392776523], None)\n"
          ],
          "name": "stdout"
        },
        {
          "output_type": "display_data",
          "data": {
            "image/png": "[encoded data removed]",
            "text/plain": [
              "<Figure size 576x288 with 2 Axes>"
            ]
          },
          "metadata": {
            "tags": []
          }
        }
      ]
    },
    {
      "metadata": {
        "id": "UqGR6vCpypnA",
        "colab_type": "code",
        "colab": {}
      },
      "cell_type": "code",
      "source": [
        "def load_checkpoint(model, checkpoint_PATH, optimizer):\n",
        "    if checkpoint != None:\n",
        "        model_CKPT = torch.load(checkpoint_PATH)\n",
        "        model.load_state_dict(model_CKPT['state_dict'])\n",
        "        print('loading checkpoint!')\n",
        "        optimizer.load_state_dict(model_CKPT['optimizer'])\n",
        "    return model, optimizer"
      ],
      "execution_count": 0,
      "outputs": []
    },
    {
      "metadata": {
        "id": "ODwSkKqxyrov",
        "colab_type": "code",
        "colab": {}
      },
      "cell_type": "code",
      "source": [
        "\n",
        "checkpoint_PATH='checkpoint/ckpt.t14'\n",
        "model_CKPT = torch.load(checkpoint_PATH)\n",
        "net.load_state_dict(model_CKPT['net'])"
      ],
      "execution_count": 0,
      "outputs": []
    },
    {
      "metadata": {
        "id": "mZlc8kAvyt5f",
        "colab_type": "code",
        "outputId": "6d4404c5-2829-4c98-ddba-5f4966f758be",
        "colab": {
          "base_uri": "https://localhost:8080/",
          "height": 368
        }
      },
      "cell_type": "code",
      "source": [
        "epoch=1\n",
        "test(epoch,test_loader)\n"
      ],
      "execution_count": 395,
      "outputs": [
        {
          "output_type": "stream",
          "text": [
            "\n",
            "Epoch: 1 | Test Loss: 0.923 | Acc: 70.880% (314/443)\n",
            "Acc by class:  [0.811 0.764 0.677 0.569]\n",
            "Saving..\n"
          ],
          "name": "stdout"
        },
        {
          "output_type": "error",
          "ename": "TypeError",
          "evalue": "ignored",
          "traceback": [
            "\u001b[0;31m---------------------------------------------------------------------------\u001b[0m",
            "\u001b[0;31mTypeError\u001b[0m                                 Traceback (most recent call last)",
            "\u001b[0;32m<ipython-input-395-b62aadb5b292>\u001b[0m in \u001b[0;36m<module>\u001b[0;34m()\u001b[0m\n\u001b[1;32m      1\u001b[0m \u001b[0mepoch\u001b[0m\u001b[0;34m=\u001b[0m\u001b[0;36m1\u001b[0m\u001b[0;34m\u001b[0m\u001b[0;34m\u001b[0m\u001b[0m\n\u001b[0;32m----> 2\u001b[0;31m \u001b[0mtest\u001b[0m\u001b[0;34m(\u001b[0m\u001b[0mepoch\u001b[0m\u001b[0;34m,\u001b[0m\u001b[0mtest_loader\u001b[0m\u001b[0;34m)\u001b[0m\u001b[0;34m\u001b[0m\u001b[0;34m\u001b[0m\u001b[0m\n\u001b[0m",
            "\u001b[0;32m<ipython-input-341-41168df354d7>\u001b[0m in \u001b[0;36mtest\u001b[0;34m(epoch, check_num, testloader)\u001b[0m\n\u001b[1;32m     65\u001b[0m             \u001b[0mos\u001b[0m\u001b[0;34m.\u001b[0m\u001b[0mmkdir\u001b[0m\u001b[0;34m(\u001b[0m\u001b[0;34m'checkpoint'\u001b[0m\u001b[0;34m)\u001b[0m\u001b[0;34m\u001b[0m\u001b[0;34m\u001b[0m\u001b[0m\n\u001b[1;32m     66\u001b[0m         \u001b[0mtorch\u001b[0m\u001b[0;34m.\u001b[0m\u001b[0msave\u001b[0m\u001b[0;34m(\u001b[0m\u001b[0mstate\u001b[0m\u001b[0;34m,\u001b[0m \u001b[0;34m'./checkpoint/ckpt.t'\u001b[0m \u001b[0;34m+\u001b[0m \u001b[0mstr\u001b[0m\u001b[0;34m(\u001b[0m\u001b[0mcheck_num\u001b[0m\u001b[0;34m)\u001b[0m\u001b[0;34m)\u001b[0m\u001b[0;34m\u001b[0m\u001b[0;34m\u001b[0m\u001b[0m\n\u001b[0;32m---> 67\u001b[0;31m         \u001b[0mcheck_num\u001b[0m \u001b[0;34m=\u001b[0m \u001b[0mcheck_num\u001b[0m \u001b[0;34m+\u001b[0m \u001b[0;36m1\u001b[0m\u001b[0;34m\u001b[0m\u001b[0;34m\u001b[0m\u001b[0m\n\u001b[0m\u001b[1;32m     68\u001b[0m         \u001b[0;31m#best_acc = acc\u001b[0m\u001b[0;34m\u001b[0m\u001b[0;34m\u001b[0m\u001b[0;34m\u001b[0m\u001b[0m\n\u001b[1;32m     69\u001b[0m \u001b[0;34m\u001b[0m\u001b[0m\n",
            "\u001b[0;31mTypeError\u001b[0m: unsupported operand type(s) for +: 'DataLoader' and 'int'"
          ]
        }
      ]
    },
    {
      "metadata": {
        "id": "KE2CNLx7yv3O",
        "colab_type": "code",
        "outputId": "870fa39f-01af-4f4c-f5e5-9547b701e1c3",
        "colab": {
          "base_uri": "https://localhost:8080/",
          "height": 34
        }
      },
      "cell_type": "code",
      "source": [
        "print(model_CKPT['epoch'],model_CKPT['acc'])"
      ],
      "execution_count": 396,
      "outputs": [
        {
          "output_type": "stream",
          "text": [
            "38 72.5925925925926\n"
          ],
          "name": "stdout"
        }
      ]
    },
    {
      "metadata": {
        "id": "wqtc0CtMGQsk",
        "colab_type": "code",
        "colab": {}
      },
      "cell_type": "code",
      "source": [
        ""
      ],
      "execution_count": 0,
      "outputs": []
    },
    {
      "metadata": {
        "id": "mR6dEsJt00ck",
        "colab_type": "code",
        "colab": {}
      },
      "cell_type": "code",
      "source": [
        ""
      ],
      "execution_count": 0,
      "outputs": []
    }
  ]
}