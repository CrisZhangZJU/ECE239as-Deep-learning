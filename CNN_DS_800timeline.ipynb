{
  "nbformat": 4,
  "nbformat_minor": 0,
  "metadata": {
    "colab": {
      "name": "Untitled1.ipynb",
      "version": "0.3.2",
      "provenance": [],
      "collapsed_sections": [],
      "include_colab_link": true
    },
    "kernelspec": {
      "name": "python3",
      "display_name": "Python 3"
    },
    "accelerator": "GPU"
  },
  "cells": [
    {
      "cell_type": "markdown",
      "metadata": {
        "id": "view-in-github",
        "colab_type": "text"
      },
      "source": [
        "<a href=\"https://colab.research.google.com/github/SiqiHuang18/ECE239as-Deep-learning/blob/ChrisZhang/CNN_DS_800timeline.ipynb\" target=\"_parent\"><img src=\"https://colab.research.google.com/assets/colab-badge.svg\" alt=\"Open In Colab\"/></a>"
      ]
    },
    {
      "metadata": {
        "id": "sY3WnsXhWsX5",
        "colab_type": "code",
        "outputId": "7d2db7ea-21e4-438e-86ab-84f7d75d1bb3",
        "colab": {
          "base_uri": "https://localhost:8080/",
          "height": 51
        }
      },
      "cell_type": "code",
      "source": [
        "from google.colab import files\n",
        "import torch\n",
        "import torchvision \n",
        "import torchvision.transforms as transoforms\n",
        "import torch.optim as optim\n",
        "from load_data_800 import *\n",
        "import torch.nn as nn\n",
        "import torch.backends.cudnn as cudnn\n",
        "import os \n",
        "\n",
        "\n",
        "%load_ext autoreload\n",
        "%autoreload 2\n",
        "\n",
        "\n",
        "device = 'cuda' if torch.cuda.is_available() else 'cpu'\n",
        "best_acc = 0  # best test accuracy\n",
        "start_epoch = 0  # start from epoch 0 or last checkpoint epoch"
      ],
      "execution_count": 75,
      "outputs": [
        {
          "output_type": "stream",
          "text": [
            "The autoreload extension is already loaded. To reload it, use:\n",
            "  %reload_ext autoreload\n"
          ],
          "name": "stdout"
        }
      ]
    },
    {
      "metadata": {
        "id": "tFtUuQe3yIAV",
        "colab_type": "code",
        "outputId": "4eeedbb5-072f-422a-bb51-60829596edbd",
        "colab": {
          "base_uri": "https://localhost:8080/",
          "height": 153
        }
      },
      "cell_type": "code",
      "source": [
        "# Data\n",
        "print(device)\n",
        "print('==> Preparing data..')\n",
        "subject=\"ALL\"\n",
        "load=loader()\n",
        "\n",
        "train_loader, test_loader,val_loader, _ = load(subject,batch_size= 20,num_validation = 30)\n",
        "\n",
        "#cc = val_loader\n",
        "#dd = test_loader\n",
        "#val_loader = dd\n",
        "#test_loader = cc\n",
        "\n",
        "sub_num= 4 if subject==\"ALL\" else subject"
      ],
      "execution_count": 76,
      "outputs": [
        {
          "output_type": "stream",
          "text": [
            "cuda\n",
            "==> Preparing data..\n",
            "Train data shape:  (1845, 22, 800)\n",
            "Train labels shape:  (1845,)\n",
            "test data shape:  (261, 22, 800)\n",
            "test labels shape:  (261,)\n",
            "Validation data shape:  (270, 22, 800)\n",
            "Validation labels shape:  (270,)\n"
          ],
          "name": "stdout"
        }
      ]
    },
    {
      "metadata": {
        "id": "0F3M7YSYyLZr",
        "colab_type": "code",
        "colab": {}
      },
      "cell_type": "code",
      "source": [
        "# Training \n",
        "def train(epoch):\n",
        "    trainloader=train_loader\n",
        "    net.train()\n",
        "    train_loss = 0\n",
        "    correct = 0\n",
        "    total = 0\n",
        "    for batch_idx, (inputs, labels) in enumerate(trainloader):\n",
        "        # Get the inputs\n",
        "        inputs, labels = inputs.to(device), labels.to(device).long()\n",
        "        inputs = inputs.to(device)        # Zero the parameter gradients\n",
        "        optimizer.zero_grad()\n",
        "    \n",
        "        # Forward+Backward+Optimize\n",
        "        outputs = net(inputs)\n",
        "#         labels = labels.unsqueeze(1)\n",
        "#         print('labels',labels.shape)\n",
        "#         one_hot = torch.zeros(labels.shape[0], 4).scatter_(1, labels, 1)       \n",
        "#         labels=one_hot.to(device)\n",
        "#         print('outputs',outputs.shape) # Shape should be [20*4]\n",
        "#         print('labels',labels.shape)\n",
        "        loss = criterion (outputs, labels)\n",
        "        loss.backward()\n",
        "        optimizer.step()\n",
        "\n",
        "        # Print statistics \n",
        "        train_loss += loss.item()\n",
        "        _,predicted = outputs.max(1)\n",
        "        total += labels.size(0)\n",
        "        correct += predicted.eq(labels).sum().item()\n",
        "        # progress_bar(batch_idx, len(trainloader), 'Loss: %.3f | Acc: %.3f%% (%d/%d)'\n",
        "        #     % (train_loss/(batch_idx+1), 100.*correct/total, correct, total))\n",
        "    return ([train_loss/(batch_idx+1),100.*correct/total])"
      ],
      "execution_count": 0,
      "outputs": []
    },
    {
      "metadata": {
        "id": "EfU53b7byO5R",
        "colab_type": "code",
        "colab": {}
      },
      "cell_type": "code",
      "source": [
        "# Testing\n",
        "def test(epoch,check_num,testloader=test_loader):\n",
        "    global best_acc\n",
        "    net.eval()\n",
        "    test_loss = 0\n",
        "    correct = 0\n",
        "    total = 0\n",
        "\n",
        "    total_by_cat = np.zeros((sub_num))\n",
        "    correct_by_cat = np.zeros((sub_num))\n",
        "\n",
        "\n",
        "    with torch.no_grad():\n",
        "        for batch_idx, (inputs, labels) in enumerate(testloader):\n",
        "#             inputs, labels = inputs.to(device), labels.to(device)\n",
        "            inputs,labels = inputs.to(device), labels.to(device).long()\n",
        "\n",
        "            outputs = net(inputs)\n",
        "#             labels=labels.unsqueeze(1)\n",
        "            \n",
        "#             one_hot = torch.zeros(labels.shape[0], 4).scatter_(1, labels, 1)       \n",
        "#             labels=one_hot.to(device)\n",
        "            \n",
        "            loss = criterion(outputs, labels)\n",
        "\n",
        "            test_loss += loss.item()\n",
        "            _, predicted = outputs.max(1)\n",
        "            total += labels.size(0)\n",
        "            correct += predicted.eq(labels).sum().item()\n",
        "            for i, (pred, tar) in enumerate(zip(predicted, labels)):\n",
        "                total_by_cat[tar.item()]+=1\n",
        "                if(pred.item() == tar.item()):\n",
        "                    correct_by_cat[tar.item()] += 1\n",
        "            #progress_bar(batch_idx, len(testloader), 'Loss: %.3f | Acc: %.3f%% (%d/%d)'\n",
        "            #    % (test_loss/(batch_idx+1), 100.*correct/total, correct, total))\n",
        "\n",
        "\n",
        "    print('\\nEpoch: %d | Test Loss: %.3f | Acc: %.3f%% (%d/%d)'\n",
        "        % (epoch, test_loss/(batch_idx+1), 100.*correct/total, correct, total))\n",
        "    np.set_printoptions(precision=3)\n",
        "    print(\"Acc by class: \", correct_by_cat * 1.0 / total_by_cat)\n",
        "\n",
        "    # Save checkpoint.\n",
        "    acc = 100.*correct/total\n",
        "    #if acc > best_acc:\n",
        "    #    print('Saving..')\n",
        "    #    state = {\n",
        "    #        'net': net.state_dict(),\n",
        "    #        'acc': acc,\n",
        "    #        'epoch': epoch,\n",
        "    #    }\n",
        "    #    if not os.path.isdir('checkpoint'):\n",
        "    #        os.mkdir('checkpoint')\n",
        "    #    torch.save(state, './checkpoint/ckpt.t7')\n",
        "    #    best_acc = acc\n",
        "    is_check = None\n",
        "    if acc >= 100.*0.7:\n",
        "        is_check = True\n",
        "        print('Saving..')\n",
        "        state = {\n",
        "            'net': net.state_dict(),\n",
        "            'acc': acc,\n",
        "            'epoch': epoch,\n",
        "        }\n",
        "        if not os.path.isdir('checkpoint'):\n",
        "            os.mkdir('checkpoint')\n",
        "        torch.save(state, './checkpoint/ckpt.t' + str(check_num))\n",
        "        check_num = check_num + 1\n",
        "        #best_acc = acc\n",
        "\n",
        "    return [test_loss/(batch_idx+1),100.*correct/total], is_check"
      ],
      "execution_count": 0,
      "outputs": []
    },
    {
      "metadata": {
        "id": "QKTnEgi-yRcW",
        "colab_type": "code",
        "colab": {}
      },
      "cell_type": "code",
      "source": [
        "# Main \n",
        "def main_train(epoches = 8):\n",
        "    stats = {}\n",
        "    stats['train'] = []\n",
        "    stats['val']  = []\n",
        "    stats['test'] = []\n",
        "    epoches = range(epoches)\n",
        "    scheduler=torch.optim.lr_scheduler.StepLR(optimizer, step_size=5, gamma=0.97, last_epoch=-1)\n",
        "    check_num = 0\n",
        "\n",
        "    for epoch in epoches:\n",
        "        scheduler.step()\n",
        "        stats['train'].append(train(epoch))\n",
        "        tol, is_check = test(epoch,check_num, testloader=val_loader)\n",
        "        stats['val'].append(tol)\n",
        "        if is_check:\n",
        "          check_num += 1\n",
        "        #stats['val'].append(test(epoch,testloader=val_loader))\n",
        "\n",
        "    stats['test']=test(epoch,test_loader)\n",
        "    print('Test set result:',stats['test'])\n",
        "\n",
        "    stats['val']  = np.array(stats['val'])\n",
        "    stats['train'] = np.array(stats['train'])\n",
        "\n",
        "    fig, ax = plt.subplots(1, 2,figsize = (8,4))\n",
        "    ax[0].plot(epoches,stats['val'][:,0],epoches,stats['train'][:,0])\n",
        "\n",
        "    ax[0].legend(['validation','train'])\n",
        "    ax[0].set_title('loss')\n",
        "\n",
        "    ax[1].plot(epoches,stats['val'][:,1],epoches,stats['train'][:,1])\n",
        "\n",
        "    ax[1].legend(['validation','train'])\n",
        "    ax[1].set_title('accuracy')"
      ],
      "execution_count": 0,
      "outputs": []
    },
    {
      "metadata": {
        "id": "PZe7tdFOyUdt",
        "colab_type": "code",
        "outputId": "dec96c82-737e-4af0-b6cc-0c7df8768de5",
        "colab": {
          "base_uri": "https://localhost:8080/",
          "height": 34
        }
      },
      "cell_type": "code",
      "source": [
        "# Model\n",
        "#import Shallow_CNN_SQ\n",
        "#import Shallow_CNN_YJ\n",
        "#import Deep_CNN\n",
        "#import Shallow_CNN\n",
        "#import Deep_CNN_YJ\n",
        "import Shallow_CNN_YJ_70_1\n",
        "#import EncoderRNN\n",
        "#import encoder\n",
        "#import RNN_CNN\n",
        "#import CNN_depthwise\n",
        "#import RNN_CNN_DS\n",
        "# from models import encoder,Transformer,EncoderRNN,RNN_CNN\n",
        "print('==> Building model..')\n",
        "\n",
        "#net= Deep_CNN_YJ.CNN_Deep()\n",
        "net= Shallow_CNN_YJ_70_1.CNN_Shallow()\n",
        "#net = encoder.Model()\n",
        "#net = RNN_CNN.RNN0_CNN()\n",
        "#net = CNN_depthwise.EEGNet()\n",
        "#net = RNN_CNN_DS.EEGNet()\n",
        "net = net.to(device)\n",
        "if device == 'cuda':\n",
        "    net = torch.nn.DataParallel(net)\n",
        "    cudnn.benchmark = True\n",
        "    \n",
        "# Define a Loss function and optimizer\n",
        "criterion = nn.CrossEntropyLoss()\n",
        "optimizer = optim.SGD(net.parameters(), lr=0.001, momentum=0.9)"
      ],
      "execution_count": 80,
      "outputs": [
        {
          "output_type": "stream",
          "text": [
            "==> Building model..\n"
          ],
          "name": "stdout"
        }
      ]
    },
    {
      "metadata": {
        "id": "BO50xUXDyWyY",
        "colab_type": "code",
        "outputId": "1cc74074-dfbb-4823-cb73-453ce8cae585",
        "colab": {
          "base_uri": "https://localhost:8080/",
          "height": 1402
        }
      },
      "cell_type": "code",
      "source": [
        "import matplotlib.pyplot as plt\n",
        "# optimizer = torch.optim.Adam(net.parameters(), lr=0.001, betas=(0.9,0.999), eps=1e-08, weight_decay=0.002)\n",
        "optimizer = torch.optim.Adam(net.parameters(), lr=0.001, betas=(0.9,0.999), eps=1e-08, weight_decay=0.011) #SQ\n",
        "\n",
        "main_train(epoches = 20)"
      ],
      "execution_count": 81,
      "outputs": [
        {
          "output_type": "stream",
          "text": [
            "\n",
            "Epoch: 0 | Test Loss: 1.156 | Acc: 48.148% (130/270)\n",
            "Acc by class:  [0.441 0.439 0.406 0.642]\n",
            "\n",
            "Epoch: 1 | Test Loss: 1.045 | Acc: 54.815% (148/270)\n",
            "Acc by class:  [0.706 0.515 0.42  0.552]\n",
            "\n",
            "Epoch: 2 | Test Loss: 1.012 | Acc: 59.630% (161/270)\n",
            "Acc by class:  [0.632 0.424 0.594 0.731]\n",
            "\n",
            "Epoch: 3 | Test Loss: 0.920 | Acc: 62.222% (168/270)\n",
            "Acc by class:  [0.897 0.515 0.522 0.552]\n",
            "\n",
            "Epoch: 4 | Test Loss: 0.897 | Acc: 65.926% (178/270)\n",
            "Acc by class:  [0.603 0.621 0.667 0.746]\n",
            "\n",
            "Epoch: 5 | Test Loss: 0.889 | Acc: 62.593% (169/270)\n",
            "Acc by class:  [0.647 0.742 0.609 0.507]\n",
            "\n",
            "Epoch: 6 | Test Loss: 0.933 | Acc: 62.963% (170/270)\n",
            "Acc by class:  [0.779 0.318 0.681 0.731]\n",
            "\n",
            "Epoch: 7 | Test Loss: 0.817 | Acc: 67.037% (181/270)\n",
            "Acc by class:  [0.75  0.667 0.652 0.612]\n",
            "\n",
            "Epoch: 8 | Test Loss: 0.931 | Acc: 63.704% (172/270)\n",
            "Acc by class:  [0.662 0.712 0.58  0.597]\n",
            "\n",
            "Epoch: 9 | Test Loss: 0.813 | Acc: 68.148% (184/270)\n",
            "Acc by class:  [0.853 0.515 0.565 0.791]\n",
            "\n",
            "Epoch: 10 | Test Loss: 0.911 | Acc: 62.222% (168/270)\n",
            "Acc by class:  [0.853 0.636 0.507 0.493]\n",
            "\n",
            "Epoch: 11 | Test Loss: 0.872 | Acc: 65.926% (178/270)\n",
            "Acc by class:  [0.735 0.515 0.638 0.746]\n",
            "\n",
            "Epoch: 12 | Test Loss: 0.795 | Acc: 68.519% (185/270)\n",
            "Acc by class:  [0.765 0.621 0.638 0.716]\n",
            "\n",
            "Epoch: 13 | Test Loss: 0.796 | Acc: 67.407% (182/270)\n",
            "Acc by class:  [0.824 0.621 0.623 0.627]\n",
            "\n",
            "Epoch: 14 | Test Loss: 0.810 | Acc: 66.296% (179/270)\n",
            "Acc by class:  [0.647 0.712 0.594 0.701]\n",
            "\n",
            "Epoch: 15 | Test Loss: 0.749 | Acc: 72.593% (196/270)\n",
            "Acc by class:  [0.779 0.561 0.783 0.776]\n",
            "Saving..\n",
            "\n",
            "Epoch: 16 | Test Loss: 0.838 | Acc: 70.370% (190/270)\n",
            "Acc by class:  [0.838 0.455 0.783 0.731]\n",
            "Saving..\n",
            "\n",
            "Epoch: 17 | Test Loss: 0.847 | Acc: 65.926% (178/270)\n",
            "Acc by class:  [0.809 0.652 0.551 0.627]\n",
            "\n",
            "Epoch: 18 | Test Loss: 0.833 | Acc: 69.630% (188/270)\n",
            "Acc by class:  [0.735 0.576 0.696 0.776]\n",
            "\n",
            "Epoch: 19 | Test Loss: 0.946 | Acc: 66.296% (179/270)\n",
            "Acc by class:  [0.838 0.53  0.681 0.597]\n",
            "\n",
            "Epoch: 19 | Test Loss: 1.000 | Acc: 64.368% (168/261)\n",
            "Acc by class:  [0.786 0.636 0.61  0.53 ]\n",
            "Test set result: ([0.9998652438322703, 64.36781609195403], None)\n"
          ],
          "name": "stdout"
        },
        {
          "output_type": "display_data",
          "data": {
            "image/png": "[encoded data removed]",
            "text/plain": [
              "<Figure size 576x288 with 2 Axes>"
            ]
          },
          "metadata": {
            "tags": []
          }
        }
      ]
    },
    {
      "metadata": {
        "id": "UqGR6vCpypnA",
        "colab_type": "code",
        "colab": {}
      },
      "cell_type": "code",
      "source": [
        "def load_checkpoint(model, checkpoint_PATH, optimizer):\n",
        "    if checkpoint != None:\n",
        "        model_CKPT = torch.load(checkpoint_PATH)\n",
        "        model.load_state_dict(model_CKPT['state_dict'])\n",
        "        print('loading checkpoint!')\n",
        "        optimizer.load_state_dict(model_CKPT['optimizer'])\n",
        "    return model, optimizer"
      ],
      "execution_count": 0,
      "outputs": []
    },
    {
      "metadata": {
        "id": "ODwSkKqxyrov",
        "colab_type": "code",
        "colab": {
          "base_uri": "https://localhost:8080/",
          "height": 85
        },
        "outputId": "c14e5c88-ca36-4945-ca25-a6ce738160a9"
      },
      "cell_type": "code",
      "source": [
        "#for num in range(118):\n",
        "#  num_char = str(num)\n",
        "#  checkpoint_PATH='checkpoint/ckpt.t' + num_char\n",
        "#  model_CKPT = torch.load(checkpoint_PATH)\n",
        "#  net.load_state_dict(model_CKPT['net'])\n",
        "#  epoch=1\n",
        "#  test(epoch,test_loader)\n",
        "\n",
        "checkpoint_PATH='checkpoint/ckpt.t1'\n",
        "model_CKPT = torch.load(checkpoint_PATH)\n",
        "net.load_state_dict(model_CKPT['net'])\n",
        "epoch=1\n",
        "test(epoch,test_loader)\n",
        "\n"
      ],
      "execution_count": 87,
      "outputs": [
        {
          "output_type": "stream",
          "text": [
            "\n",
            "Epoch: 1 | Test Loss: 0.803 | Acc: 69.349% (181/261)\n",
            "Acc by class:  [0.757 0.576 0.661 0.773]\n"
          ],
          "name": "stdout"
        },
        {
          "output_type": "execute_result",
          "data": {
            "text/plain": [
              "([0.8030724227428436, 69.34865900383141], None)"
            ]
          },
          "metadata": {
            "tags": []
          },
          "execution_count": 87
        }
      ]
    },
    {
      "metadata": {
        "id": "KE2CNLx7yv3O",
        "colab_type": "code",
        "outputId": "56439c86-1573-44f7-e76f-2f1d46f6bbcf",
        "colab": {
          "base_uri": "https://localhost:8080/",
          "height": 34
        }
      },
      "cell_type": "code",
      "source": [
        "print(model_CKPT['epoch'],model_CKPT['acc'])"
      ],
      "execution_count": 88,
      "outputs": [
        {
          "output_type": "stream",
          "text": [
            "16 70.37037037037037\n"
          ],
          "name": "stdout"
        }
      ]
    },
    {
      "metadata": {
        "id": "wqtc0CtMGQsk",
        "colab_type": "code",
        "colab": {}
      },
      "cell_type": "code",
      "source": [
        ""
      ],
      "execution_count": 0,
      "outputs": []
    },
    {
      "metadata": {
        "id": "mR6dEsJt00ck",
        "colab_type": "code",
        "colab": {}
      },
      "cell_type": "code",
      "source": [
        ""
      ],
      "execution_count": 0,
      "outputs": []
    }
  ]
}