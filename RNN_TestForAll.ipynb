{
  "nbformat": 4,
  "nbformat_minor": 0,
  "metadata": {
    "colab": {
      "name": "Untitled1.ipynb",
      "version": "0.3.2",
      "provenance": [],
      "collapsed_sections": [],
      "include_colab_link": true
    },
    "kernelspec": {
      "name": "python3",
      "display_name": "Python 3"
    },
    "accelerator": "GPU"
  },
  "cells": [
    {
      "cell_type": "markdown",
      "metadata": {
        "id": "view-in-github",
        "colab_type": "text"
      },
      "source": [
        "<a href=\"https://colab.research.google.com/github/SiqiHuang18/ECE239as-Deep-learning/blob/ChrisZhang/RNN_TestForAll.ipynb\" target=\"_parent\"><img src=\"https://colab.research.google.com/assets/colab-badge.svg\" alt=\"Open In Colab\"/></a>"
      ]
    },
    {
      "metadata": {
        "id": "sY3WnsXhWsX5",
        "colab_type": "code",
        "outputId": "06b43395-4ed8-4d59-daef-aff0d74137a0",
        "colab": {
          "base_uri": "https://localhost:8080/",
          "height": 51
        }
      },
      "cell_type": "code",
      "source": [
        "from google.colab import files\n",
        "import torch\n",
        "import torchvision \n",
        "import torchvision.transforms as transoforms\n",
        "import torch.optim as optim\n",
        "from load_data import *\n",
        "import torch.nn as nn\n",
        "import torch.backends.cudnn as cudnn\n",
        "import os \n",
        "\n",
        "\n",
        "%load_ext autoreload\n",
        "%autoreload 2\n",
        "\n",
        "\n",
        "device = 'cuda' if torch.cuda.is_available() else 'cpu'\n",
        "best_acc = 0  # best test accuracy\n",
        "start_epoch = 0  # start from epoch 0 or last checkpoint epoch"
      ],
      "execution_count": 259,
      "outputs": [
        {
          "output_type": "stream",
          "text": [
            "The autoreload extension is already loaded. To reload it, use:\n",
            "  %reload_ext autoreload\n"
          ],
          "name": "stdout"
        }
      ]
    },
    {
      "metadata": {
        "id": "tFtUuQe3yIAV",
        "colab_type": "code",
        "outputId": "24d90f13-5109-46fc-fabe-ee50725629e4",
        "colab": {
          "base_uri": "https://localhost:8080/",
          "height": 153
        }
      },
      "cell_type": "code",
      "source": [
        "# Data\n",
        "print(device)\n",
        "print('==> Preparing data..')\n",
        "subject=\"ALL\"\n",
        "load=loader()\n",
        "\n",
        "train_loader, test_loader,val_loader, _ = load(subject,batch_size= 20,num_validation = 270)\n",
        "\n",
        "#cc = val_loader\n",
        "#dd = test_loader\n",
        "#val_loader = dd\n",
        "#test_loader = cc\n",
        "\n",
        "sub_num= 4 if subject==\"ALL\" else subject"
      ],
      "execution_count": 260,
      "outputs": [
        {
          "output_type": "stream",
          "text": [
            "cuda\n",
            "==> Preparing data..\n",
            "Train data shape:  (1845, 22, 1000)\n",
            "Train labels shape:  (1845,)\n",
            "test data shape:  (443, 22, 1000)\n",
            "test labels shape:  (443,)\n",
            "Validation data shape:  (270, 22, 1000)\n",
            "Validation labels shape:  (270,)\n"
          ],
          "name": "stdout"
        }
      ]
    },
    {
      "metadata": {
        "id": "0F3M7YSYyLZr",
        "colab_type": "code",
        "colab": {}
      },
      "cell_type": "code",
      "source": [
        "# Training \n",
        "def train(epoch):\n",
        "    trainloader=train_loader\n",
        "    net.train()\n",
        "    train_loss = 0\n",
        "    correct = 0\n",
        "    total = 0\n",
        "    for batch_idx, (inputs, labels) in enumerate(trainloader):\n",
        "        # Get the inputs\n",
        "        inputs, labels = inputs.to(device), labels.to(device).long()\n",
        "        inputs = inputs.to(device)        # Zero the parameter gradients\n",
        "        optimizer.zero_grad()\n",
        "    \n",
        "        # Forward+Backward+Optimize\n",
        "        outputs = net(inputs)\n",
        "#         labels = labels.unsqueeze(1)\n",
        "#         print('labels',labels.shape)\n",
        "#         one_hot = torch.zeros(labels.shape[0], 4).scatter_(1, labels, 1)       \n",
        "#         labels=one_hot.to(device)\n",
        "#         print('outputs',outputs.shape) # Shape should be [20*4]\n",
        "#         print('labels',labels.shape)\n",
        "        loss = criterion (outputs, labels)\n",
        "        loss.backward()\n",
        "        optimizer.step()\n",
        "\n",
        "        # Print statistics \n",
        "        train_loss += loss.item()\n",
        "        _,predicted = outputs.max(1)\n",
        "        total += labels.size(0)\n",
        "        correct += predicted.eq(labels).sum().item()\n",
        "        # progress_bar(batch_idx, len(trainloader), 'Loss: %.3f | Acc: %.3f%% (%d/%d)'\n",
        "        #     % (train_loss/(batch_idx+1), 100.*correct/total, correct, total))\n",
        "    return ([train_loss/(batch_idx+1),100.*correct/total])"
      ],
      "execution_count": 0,
      "outputs": []
    },
    {
      "metadata": {
        "id": "EfU53b7byO5R",
        "colab_type": "code",
        "colab": {}
      },
      "cell_type": "code",
      "source": [
        "# Testing\n",
        "def test(epoch, testloader=test_loader):\n",
        "    global best_acc\n",
        "    net.eval()\n",
        "    test_loss = 0\n",
        "    correct = 0\n",
        "    total = 0\n",
        "\n",
        "    total_by_cat = np.zeros((sub_num))\n",
        "    correct_by_cat = np.zeros((sub_num))\n",
        "\n",
        "\n",
        "    with torch.no_grad():\n",
        "        for batch_idx, (inputs, labels) in enumerate(testloader):\n",
        "#             inputs, labels = inputs.to(device), labels.to(device)\n",
        "            inputs,labels = inputs.to(device), labels.to(device).long()\n",
        "\n",
        "            outputs = net(inputs)\n",
        "#             labels=labels.unsqueeze(1)\n",
        "            \n",
        "#             one_hot = torch.zeros(labels.shape[0], 4).scatter_(1, labels, 1)       \n",
        "#             labels=one_hot.to(device)\n",
        "            \n",
        "            loss = criterion(outputs, labels)\n",
        "\n",
        "            test_loss += loss.item()\n",
        "            _, predicted = outputs.max(1)\n",
        "            total += labels.size(0)\n",
        "            correct += predicted.eq(labels).sum().item()\n",
        "            for i, (pred, tar) in enumerate(zip(predicted, labels)):\n",
        "                total_by_cat[tar.item()]+=1\n",
        "                if(pred.item() == tar.item()):\n",
        "                    correct_by_cat[tar.item()] += 1\n",
        "            #progress_bar(batch_idx, len(testloader), 'Loss: %.3f | Acc: %.3f%% (%d/%d)'\n",
        "            #    % (test_loss/(batch_idx+1), 100.*correct/total, correct, total))\n",
        "\n",
        "\n",
        "    print('\\nEpoch: %d | Test Loss: %.3f | Acc: %.3f%% (%d/%d)'\n",
        "        % (epoch, test_loss/(batch_idx+1), 100.*correct/total, correct, total))\n",
        "    np.set_printoptions(precision=3)\n",
        "    print(\"Acc by class: \", correct_by_cat * 1.0 / total_by_cat)\n",
        "\n",
        "    # Save checkpoint.\n",
        "    acc = 100.*correct/total\n",
        "    if acc > best_acc:\n",
        "        print('Saving..')\n",
        "        state = {\n",
        "            'net': net.state_dict(),\n",
        "            'acc': acc,\n",
        "            'epoch': epoch,\n",
        "        }\n",
        "        if not os.path.isdir('checkpoint'):\n",
        "            os.mkdir('checkpoint')\n",
        "        torch.save(state, './checkpoint/ckpt.t7')\n",
        "        best_acc = acc\n",
        "    #is_check = None\n",
        "    #if acc >= 100.*0.7:\n",
        "    #    is_check = True\n",
        "    #    print('Saving..')\n",
        "    #    state = {\n",
        "    #        'net': net.state_dict(),\n",
        "    #        'acc': acc,\n",
        "    #        'epoch': epoch,\n",
        "    #    }\n",
        "    #    if not os.path.isdir('checkpoint'):\n",
        "    #        os.mkdir('checkpoint')\n",
        "    #    torch.save(state, './checkpoint/ckpt.t' + str(check_num))\n",
        "    #    check_num = check_num + 1\n",
        "        #best_acc = acc\n",
        "\n",
        "    return [test_loss/(batch_idx+1),100.*correct/total]"
      ],
      "execution_count": 0,
      "outputs": []
    },
    {
      "metadata": {
        "id": "QKTnEgi-yRcW",
        "colab_type": "code",
        "colab": {}
      },
      "cell_type": "code",
      "source": [
        "# Main \n",
        "def main_train(epoches = 8):\n",
        "    stats = {}\n",
        "    stats['train'] = []\n",
        "    stats['val']  = []\n",
        "    stats['test'] = []\n",
        "    epoches = range(epoches)\n",
        "    scheduler=torch.optim.lr_scheduler.StepLR(optimizer, step_size=5, gamma=0.97, last_epoch=-1)\n",
        "    #check_num = 0\n",
        "\n",
        "    for epoch in epoches:\n",
        "        scheduler.step()\n",
        "        stats['train'].append(train(epoch))\n",
        "        #tol, is_check = test(epoch,check_num, testloader=val_loader)\n",
        "        #stats['val'].append(tol)\n",
        "        #if is_check:\n",
        "        #  check_num += 1\n",
        "        stats['val'].append(test(epoch,testloader=val_loader))\n",
        "\n",
        "    stats['test']=test(epoch,test_loader)\n",
        "    print('Test set result:',stats['test'])\n",
        "\n",
        "    stats['val']  = np.array(stats['val'])\n",
        "    stats['train'] = np.array(stats['train'])\n",
        "\n",
        "    fig, ax = plt.subplots(1, 2,figsize = (8,4))\n",
        "    ax[0].plot(epoches,stats['val'][:,0],epoches,stats['train'][:,0])\n",
        "\n",
        "    ax[0].legend(['validation','train'])\n",
        "    ax[0].set_title('loss')\n",
        "\n",
        "    ax[1].plot(epoches,stats['val'][:,1],epoches,stats['train'][:,1])\n",
        "\n",
        "    ax[1].legend(['validation','train'])\n",
        "    ax[1].set_title('accuracy')"
      ],
      "execution_count": 0,
      "outputs": []
    },
    {
      "metadata": {
        "id": "PZe7tdFOyUdt",
        "colab_type": "code",
        "outputId": "5226b59e-d7ff-49df-d31a-f6400a482592",
        "colab": {
          "base_uri": "https://localhost:8080/",
          "height": 34
        }
      },
      "cell_type": "code",
      "source": [
        "# Model\n",
        "import Shallow_CNN_SQ\n",
        "import Shallow_CNN_YJ\n",
        "import Deep_CNN\n",
        "import Shallow_CNN\n",
        "import Deep_CNN_YJ\n",
        "import Shallow_CNN_YJ_70_1\n",
        "import EncoderRNN\n",
        "import encoder\n",
        "# from models import encoder,Transformer,EncoderRNN,RNN_CNN\n",
        "print('==> Building model..')\n",
        "\n",
        "#net= Deep_CNN_YJ.CNN_Deep()\n",
        "#net= Shallow_CNN_YJ_70_1.CNN_Shallow()\n",
        "net = encoder.Model()\n",
        "net = net.to(device)\n",
        "if device == 'cuda':\n",
        "    net = torch.nn.DataParallel(net)\n",
        "    cudnn.benchmark = True\n",
        "    \n",
        "# Define a Loss function and optimizer\n",
        "criterion = nn.CrossEntropyLoss()\n",
        "optimizer = optim.SGD(net.parameters(), lr=0.001, momentum=0.9)"
      ],
      "execution_count": 264,
      "outputs": [
        {
          "output_type": "stream",
          "text": [
            "==> Building model..\n"
          ],
          "name": "stdout"
        }
      ]
    },
    {
      "metadata": {
        "id": "BO50xUXDyWyY",
        "colab_type": "code",
        "outputId": "ae5b7699-8236-4256-de04-76fea27b3d52",
        "colab": {
          "base_uri": "https://localhost:8080/",
          "height": 1997
        }
      },
      "cell_type": "code",
      "source": [
        "import matplotlib.pyplot as plt\n",
        "# optimizer = torch.optim.Adam(net.parameters(), lr=0.001, betas=(0.9,0.999), eps=1e-08, weight_decay=0.002)\n",
        "optimizer = torch.optim.Adam(net.parameters(), lr=0.001, betas=(0.9,0.999), eps=1e-08, weight_decay=0.011) #SQ\n",
        "\n",
        "main_train(epoches = 30)"
      ],
      "execution_count": 265,
      "outputs": [
        {
          "output_type": "stream",
          "text": [
            "\n",
            "Epoch: 0 | Test Loss: 1.324 | Acc: 38.148% (103/270)\n",
            "Acc by class:  [0.279 0.138 0.638 0.456]\n",
            "Saving..\n",
            "\n",
            "Epoch: 1 | Test Loss: 1.292 | Acc: 38.519% (104/270)\n",
            "Acc by class:  [0.632 0.031 0.391 0.471]\n",
            "Saving..\n",
            "\n",
            "Epoch: 2 | Test Loss: 1.268 | Acc: 44.444% (120/270)\n",
            "Acc by class:  [0.235 0.277 0.594 0.662]\n",
            "Saving..\n",
            "\n",
            "Epoch: 3 | Test Loss: 1.295 | Acc: 43.333% (117/270)\n",
            "Acc by class:  [0.206 0.385 0.522 0.618]\n",
            "\n",
            "Epoch: 4 | Test Loss: 1.279 | Acc: 42.963% (116/270)\n",
            "Acc by class:  [0.338 0.246 0.522 0.603]\n",
            "\n",
            "Epoch: 5 | Test Loss: 1.248 | Acc: 47.407% (128/270)\n",
            "Acc by class:  [0.382 0.292 0.594 0.618]\n",
            "Saving..\n",
            "\n",
            "Epoch: 6 | Test Loss: 1.257 | Acc: 45.926% (124/270)\n",
            "Acc by class:  [0.456 0.262 0.536 0.574]\n",
            "\n",
            "Epoch: 7 | Test Loss: 1.244 | Acc: 47.037% (127/270)\n",
            "Acc by class:  [0.309 0.385 0.565 0.618]\n",
            "\n",
            "Epoch: 8 | Test Loss: 1.259 | Acc: 44.074% (119/270)\n",
            "Acc by class:  [0.338 0.215 0.58  0.618]\n",
            "\n",
            "Epoch: 9 | Test Loss: 1.239 | Acc: 47.778% (129/270)\n",
            "Acc by class:  [0.324 0.4   0.551 0.632]\n",
            "Saving..\n",
            "\n",
            "Epoch: 10 | Test Loss: 1.257 | Acc: 43.704% (118/270)\n",
            "Acc by class:  [0.294 0.354 0.536 0.559]\n",
            "\n",
            "Epoch: 11 | Test Loss: 1.226 | Acc: 51.481% (139/270)\n",
            "Acc by class:  [0.485 0.385 0.522 0.662]\n",
            "Saving..\n",
            "\n",
            "Epoch: 12 | Test Loss: 1.232 | Acc: 47.778% (129/270)\n",
            "Acc by class:  [0.368 0.4   0.536 0.603]\n",
            "\n",
            "Epoch: 13 | Test Loss: 1.217 | Acc: 50.741% (137/270)\n",
            "Acc by class:  [0.515 0.323 0.623 0.559]\n",
            "\n",
            "Epoch: 14 | Test Loss: 1.230 | Acc: 48.519% (131/270)\n",
            "Acc by class:  [0.471 0.338 0.551 0.574]\n",
            "\n",
            "Epoch: 15 | Test Loss: 1.250 | Acc: 48.519% (131/270)\n",
            "Acc by class:  [0.485 0.338 0.594 0.515]\n",
            "\n",
            "Epoch: 16 | Test Loss: 1.228 | Acc: 50.000% (135/270)\n",
            "Acc by class:  [0.412 0.4   0.536 0.647]\n",
            "\n",
            "Epoch: 17 | Test Loss: 1.232 | Acc: 47.407% (128/270)\n",
            "Acc by class:  [0.5   0.369 0.522 0.5  ]\n",
            "\n",
            "Epoch: 18 | Test Loss: 1.234 | Acc: 49.259% (133/270)\n",
            "Acc by class:  [0.412 0.4   0.536 0.618]\n",
            "\n",
            "Epoch: 19 | Test Loss: 1.229 | Acc: 48.148% (130/270)\n",
            "Acc by class:  [0.515 0.308 0.58  0.515]\n",
            "\n",
            "Epoch: 20 | Test Loss: 1.242 | Acc: 47.407% (128/270)\n",
            "Acc by class:  [0.515 0.354 0.493 0.529]\n",
            "\n",
            "Epoch: 21 | Test Loss: 1.211 | Acc: 53.704% (145/270)\n",
            "Acc by class:  [0.515 0.446 0.58  0.603]\n",
            "Saving..\n",
            "\n",
            "Epoch: 22 | Test Loss: 1.219 | Acc: 47.778% (129/270)\n",
            "Acc by class:  [0.412 0.369 0.565 0.559]\n",
            "\n",
            "Epoch: 23 | Test Loss: 1.211 | Acc: 51.481% (139/270)\n",
            "Acc by class:  [0.574 0.446 0.536 0.5  ]\n",
            "\n",
            "Epoch: 24 | Test Loss: 1.224 | Acc: 49.259% (133/270)\n",
            "Acc by class:  [0.412 0.431 0.536 0.588]\n",
            "\n",
            "Epoch: 25 | Test Loss: 1.237 | Acc: 47.778% (129/270)\n",
            "Acc by class:  [0.529 0.431 0.435 0.515]\n",
            "\n",
            "Epoch: 26 | Test Loss: 1.210 | Acc: 51.481% (139/270)\n",
            "Acc by class:  [0.603 0.385 0.522 0.544]\n",
            "\n",
            "Epoch: 27 | Test Loss: 1.236 | Acc: 48.889% (132/270)\n",
            "Acc by class:  [0.5   0.338 0.58  0.529]\n",
            "\n",
            "Epoch: 28 | Test Loss: 1.216 | Acc: 50.370% (136/270)\n",
            "Acc by class:  [0.544 0.354 0.551 0.559]\n",
            "\n",
            "Epoch: 29 | Test Loss: 1.224 | Acc: 49.630% (134/270)\n",
            "Acc by class:  [0.397 0.385 0.594 0.603]\n",
            "\n",
            "Epoch: 29 | Test Loss: 1.245 | Acc: 47.178% (209/443)\n",
            "Acc by class:  [0.378 0.37  0.615 0.56 ]\n",
            "Test set result: [1.2450322431066763, 47.1783295711061]\n"
          ],
          "name": "stdout"
        },
        {
          "output_type": "display_data",
          "data": {
            "image/png": "[encoded data removed]",
            "text/plain": [
              "<Figure size 576x288 with 2 Axes>"
            ]
          },
          "metadata": {
            "tags": []
          }
        }
      ]
    },
    {
      "metadata": {
        "id": "UqGR6vCpypnA",
        "colab_type": "code",
        "colab": {}
      },
      "cell_type": "code",
      "source": [
        "def load_checkpoint(model, checkpoint_PATH, optimizer):\n",
        "    if checkpoint != None:\n",
        "        model_CKPT = torch.load(checkpoint_PATH)\n",
        "        model.load_state_dict(model_CKPT['state_dict'])\n",
        "        print('loading checkpoint!')\n",
        "        optimizer.load_state_dict(model_CKPT['optimizer'])\n",
        "    return model, optimizer"
      ],
      "execution_count": 0,
      "outputs": []
    },
    {
      "metadata": {
        "id": "ODwSkKqxyrov",
        "colab_type": "code",
        "colab": {}
      },
      "cell_type": "code",
      "source": [
        "# net,acc,epoch=net.load_state_dict(torch.load('C:/Users/Guangyuan Zhao/Documents/GitHub/ECE239as-Deep-learning/checkpoint/ckpt.t7'))\n",
        "\n",
        "checkpoint_PATH='checkpoint/ckpt.t7'\n",
        "model_CKPT = torch.load(checkpoint_PATH)\n",
        "net.load_state_dict(model_CKPT['net'])"
      ],
      "execution_count": 0,
      "outputs": []
    },
    {
      "metadata": {
        "id": "mZlc8kAvyt5f",
        "colab_type": "code",
        "outputId": "f9913306-6afd-4377-f3ba-dd35886f61dd",
        "colab": {
          "base_uri": "https://localhost:8080/",
          "height": 85
        }
      },
      "cell_type": "code",
      "source": [
        "epoch=1\n",
        "test(epoch,test_loader)\n"
      ],
      "execution_count": 268,
      "outputs": [
        {
          "output_type": "stream",
          "text": [
            "\n",
            "Epoch: 1 | Test Loss: 1.236 | Acc: 48.758% (216/443)\n",
            "Acc by class:  [0.505 0.362 0.552 0.56 ]\n"
          ],
          "name": "stdout"
        },
        {
          "output_type": "execute_result",
          "data": {
            "text/plain": [
              "[1.2361165025959844, 48.75846501128668]"
            ]
          },
          "metadata": {
            "tags": []
          },
          "execution_count": 268
        }
      ]
    },
    {
      "metadata": {
        "id": "KE2CNLx7yv3O",
        "colab_type": "code",
        "outputId": "f2d6ad41-2cff-4709-9503-6b32d1638388",
        "colab": {
          "base_uri": "https://localhost:8080/",
          "height": 34
        }
      },
      "cell_type": "code",
      "source": [
        "print(model_CKPT['epoch'],model_CKPT['acc'])"
      ],
      "execution_count": 269,
      "outputs": [
        {
          "output_type": "stream",
          "text": [
            "21 53.7037037037037\n"
          ],
          "name": "stdout"
        }
      ]
    },
    {
      "metadata": {
        "id": "wqtc0CtMGQsk",
        "colab_type": "code",
        "colab": {}
      },
      "cell_type": "code",
      "source": [
        ""
      ],
      "execution_count": 0,
      "outputs": []
    },
    {
      "metadata": {
        "id": "mR6dEsJt00ck",
        "colab_type": "code",
        "colab": {}
      },
      "cell_type": "code",
      "source": [
        ""
      ],
      "execution_count": 0,
      "outputs": []
    }
  ]
}